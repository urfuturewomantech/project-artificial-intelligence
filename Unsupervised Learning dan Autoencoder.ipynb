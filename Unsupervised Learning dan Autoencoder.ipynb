{
  "nbformat": 4,
  "nbformat_minor": 0,
  "metadata": {
    "colab": {
      "provenance": [],
      "gpuType": "T4"
    },
    "kernelspec": {
      "name": "python3",
      "display_name": "Python 3"
    },
    "language_info": {
      "name": "python"
    },
    "accelerator": "GPU"
  },
  "cells": [
    {
      "cell_type": "markdown",
      "source": [
        "# Library Yang Dibutuhkan"
      ],
      "metadata": {
        "id": "Aaw81a_dArfL"
      }
    },
    {
      "cell_type": "code",
      "execution_count": null,
      "metadata": {
        "id": "6LryQB2dv4dC"
      },
      "outputs": [],
      "source": [
        "# Import library\n",
        "import numpy as np\n",
        "import matplotlib.pyplot as plt\n",
        "import tensorflow as tf\n",
        "from tensorflow.keras.layers import Input, Dense\n",
        "from tensorflow.keras.models import Model"
      ]
    },
    {
      "cell_type": "markdown",
      "source": [
        "# Load Data"
      ],
      "metadata": {
        "id": "Gpbw_M80Av6H"
      }
    },
    {
      "cell_type": "code",
      "source": [
        "# Load data\n",
        "mnist = tf.keras.datasets.mnist\n",
        "\n",
        "# Load the training and test split of the MNIST dataset\n",
        "(train_images, test_labels) = mnist.load_data()ing_images, training_labels), (test"
      ],
      "metadata": {
        "id": "oppciKGDwIA2",
        "colab": {
          "base_uri": "https://localhost:8080/"
        },
        "outputId": "df2a22eb-f398-4a93-bc66-426177b8017f"
      },
      "execution_count": null,
      "outputs": [
        {
          "output_type": "stream",
          "name": "stdout",
          "text": [
            "Downloading data from https://storage.googleapis.com/tensorflow/tf-keras-datasets/mnist.npz\n",
            "11490434/11490434 [==============================] - 0s 0us/step\n"
          ]
        }
      ]
    },
    {
      "cell_type": "code",
      "source": [
        "train_shape = training_images.shape\n",
        "test_shape = test_images.shape\n",
        "\n",
        "print(f\"Terdapat {train_shape[0]} contoh dengan bentuk ({train_shape[1]}, {train_shape[2]}) pada data gambar latih\")\n",
        "print(f\"Terdapat {test_shape[0]} contoh dengan bentuk ({test_shape[1]}, {test_shape[2]}) pada data gambar uji\")"
      ],
      "metadata": {
        "id": "C-HJxbDIw77U",
        "colab": {
          "base_uri": "https://localhost:8080/"
        },
        "outputId": "e306072d-1969-4f91-a139-3f6e6b6e36a2"
      },
      "execution_count": null,
      "outputs": [
        {
          "output_type": "stream",
          "name": "stdout",
          "text": [
            "Terdapat 60000 contoh dengan bentuk (28, 28) pada data gambar latih\n",
            "Terdapat 10000 contoh dengan bentuk (28, 28) pada data gambar uji\n"
          ]
        }
      ]
    },
    {
      "cell_type": "markdown",
      "source": [
        "# Data Preprarasion"
      ],
      "metadata": {
        "id": "SSYTQv_QA092"
      }
    },
    {
      "cell_type": "code",
      "source": [
        "# Normalisasi nilai piksel\n",
        "training_images = training_images / 255\n",
        "test_images = test_images / 255\n",
        "\n",
        "# Reshape\n",
        "training_images = np.reshape(training_images,\n",
        "                            (training_images.shape[0], 784))\n",
        "test_images = np.reshape(test_images,\n",
        "                        (test_images.shape[0], 784))"
      ],
      "metadata": {
        "id": "EaqZgO1hxDE5"
      },
      "execution_count": null,
      "outputs": []
    },
    {
      "cell_type": "markdown",
      "source": [
        "# Membangun Model"
      ],
      "metadata": {
        "id": "J-kwkghUBM5v"
      }
    },
    {
      "cell_type": "code",
      "source": [
        "inputs = Input(shape=(784,))\n",
        "h_encode = Dense(512, activation='relu')(inputs)\n",
        "h_encode = Dense(256, activation='relu')(h_encode)\n",
        "h_encode = Dense(128, activation='relu')(h_encode)\n",
        "h_encode = Dense(64, activation='relu')(h_encode)\n",
        "\n",
        "coded = Dense(32, activation='relu')(h_encode)\n",
        "\n",
        "h_decode = Dense(64, activation='relu')(coded)\n",
        "h_decode = Dense(128, activation='relu')(h_decode)\n",
        "h_decode = Dense(256, activation='relu')(h_decode)\n",
        "h_decode = Dense(512, activation='relu')(h_decode)\n",
        "\n",
        "outputs = Dense(784, activation='sigmoid')(h_decode)\n",
        "autoencoder = Model(inputs, outputs)"
      ],
      "metadata": {
        "id": "_R2vVqrnxISZ"
      },
      "execution_count": null,
      "outputs": []
    },
    {
      "cell_type": "code",
      "source": [
        "autoencoder.compile(optimizer='adam',\n",
        "                    loss='mean_squared_error',\n",
        "                    metrics=['mse'])\n",
        "autoencoder.fit(training_images, training_images,\n",
        "                epochs=10,\n",
        "                batch_size=100,\n",
        "                shuffle=True,\n",
        "                validation_data=(test_images, test_images))"
      ],
      "metadata": {
        "id": "wkF0ZQaBxZ89",
        "colab": {
          "base_uri": "https://localhost:8080/"
        },
        "outputId": "69780ac0-be0e-4aa9-97b8-8605629c06ed"
      },
      "execution_count": null,
      "outputs": [
        {
          "output_type": "stream",
          "name": "stdout",
          "text": [
            "Epoch 1/10\n",
            "600/600 [==============================] - 21s 10ms/step - loss: 0.0435 - mse: 0.0435 - val_loss: 0.0251 - val_mse: 0.0251\n",
            "Epoch 2/10\n",
            "600/600 [==============================] - 3s 6ms/step - loss: 0.0215 - mse: 0.0215 - val_loss: 0.0184 - val_mse: 0.0184\n",
            "Epoch 3/10\n",
            "600/600 [==============================] - 3s 5ms/step - loss: 0.0172 - mse: 0.0172 - val_loss: 0.0158 - val_mse: 0.0158\n",
            "Epoch 4/10\n",
            "600/600 [==============================] - 3s 5ms/step - loss: 0.0151 - mse: 0.0151 - val_loss: 0.0140 - val_mse: 0.0140\n",
            "Epoch 5/10\n",
            "600/600 [==============================] - 4s 6ms/step - loss: 0.0136 - mse: 0.0136 - val_loss: 0.0130 - val_mse: 0.0130\n",
            "Epoch 6/10\n",
            "600/600 [==============================] - 3s 5ms/step - loss: 0.0125 - mse: 0.0125 - val_loss: 0.0121 - val_mse: 0.0121\n",
            "Epoch 7/10\n",
            "600/600 [==============================] - 3s 5ms/step - loss: 0.0115 - mse: 0.0115 - val_loss: 0.0111 - val_mse: 0.0111\n",
            "Epoch 8/10\n",
            "600/600 [==============================] - 3s 5ms/step - loss: 0.0108 - mse: 0.0108 - val_loss: 0.0106 - val_mse: 0.0106\n",
            "Epoch 9/10\n",
            "600/600 [==============================] - 4s 6ms/step - loss: 0.0102 - mse: 0.0102 - val_loss: 0.0103 - val_mse: 0.0103\n",
            "Epoch 10/10\n",
            "600/600 [==============================] - 3s 5ms/step - loss: 0.0098 - mse: 0.0098 - val_loss: 0.0097 - val_mse: 0.0097\n"
          ]
        },
        {
          "output_type": "execute_result",
          "data": {
            "text/plain": [
              "<keras.src.callbacks.History at 0x7d92cbccfcd0>"
            ]
          },
          "metadata": {},
          "execution_count": 7
        }
      ]
    },
    {
      "cell_type": "markdown",
      "source": [
        "# Prediksi dan Visualisasi"
      ],
      "metadata": {
        "id": "67vtQsHQBRCg"
      }
    },
    {
      "cell_type": "code",
      "source": [
        "predicted = autoencoder.predict(test_images)"
      ],
      "metadata": {
        "id": "HsT4OQ7-xcP6",
        "colab": {
          "base_uri": "https://localhost:8080/"
        },
        "outputId": "fd61347d-7cfc-4cfd-a052-3f175a2acf42"
      },
      "execution_count": null,
      "outputs": [
        {
          "output_type": "stream",
          "name": "stdout",
          "text": [
            "313/313 [==============================] - 1s 2ms/step\n"
          ]
        }
      ]
    },
    {
      "cell_type": "code",
      "source": [
        "n = 15\n",
        "plt.figure(figsize=(20,4))\n",
        "\n",
        "for i in range(n):\n",
        "  ax = plt.subplot(2, n, i+1)\n",
        "  plt.imshow(test_images[i].reshape(28, 28))\n",
        "  plt.gray()\n",
        "  ax.get_xaxis().set_visible(False)\n",
        "  ax.get_yaxis().set_visible(False)\n",
        "\n",
        "  ax = plt.subplot(2, n, i + 1 + n)\n",
        "  plt.imshow(predicted[i].reshape(28, 28), cmap='gray')\n",
        "  plt.gray()\n",
        "  ax.get_xaxis().set_visible(False)\n",
        "  ax.get_yaxis().set_visible(False)\n",
        "\n",
        "plt.show()"
      ],
      "metadata": {
        "id": "Z6lbpdQZxc90",
        "colab": {
          "base_uri": "https://localhost:8080/",
          "height": 278
        },
        "outputId": "45a06edd-344f-4afd-fd61-ee96adfe0c82"
      },
      "execution_count": null,
      "outputs": [
        {
          "output_type": "display_data",
          "data": {
            "text/plain": [
              "<Figure size 2000x400 with 30 Axes>"
            ],
            "image/png": "[encoded data removed]"
          },
          "metadata": {}
        }
      ]
    },
    {
      "cell_type": "code",
      "source": [],
      "metadata": {
        "id": "jcOjaP8423Lu"
      },
      "execution_count": null,
      "outputs": []
    }
  ]
}